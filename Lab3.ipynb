{
  "nbformat": 4,
  "nbformat_minor": 0,
  "metadata": {
    "colab": {
      "provenance": []
    },
    "kernelspec": {
      "name": "python3",
      "display_name": "Python 3"
    },
    "language_info": {
      "name": "python"
    }
  },
  "cells": [
    {
      "cell_type": "code",
      "execution_count": 7,
      "metadata": {
        "id": "T-QI3WWcggOs",
        "colab": {
          "base_uri": "https://localhost:8080/"
        },
        "outputId": "46c570ef-bb52-45b1-f12c-9bd267022c04"
      },
      "outputs": [
        {
          "output_type": "stream",
          "name": "stdout",
          "text": [
            "C = 5, r = 0.025758156494762343\n"
          ]
        }
      ],
      "source": [
        "import math\n",
        "from scipy.stats import binom, norm\n",
        "\n",
        "alpha = 0.05\n",
        "n = 10\n",
        "theta_0 = 0.3\n",
        "\n",
        "def find_critical_value(n, theta_0, alpha):\n",
        "  for C in range(n + 1):\n",
        "    prob = sum(binom.pmf(k, n, theta_0) for k in range(C+1, n+1))\n",
        "    if prob < alpha:\n",
        "      r = (alpha - prob) / binom.pmf(C, n, theta_0)\n",
        "      return C, r\n",
        "  return None, None\n",
        "\n",
        "C, r = find_critical_value(n, theta_0, alpha)\n",
        "print(f\"C = {C}, r = {r}\")\n"
      ]
    },
    {
      "cell_type": "code",
      "source": [
        "import math\n",
        "from scipy.stats import binom, norm\n",
        "import math\n",
        "\n",
        "# 给定的值\n",
        "theta = 0.25\n",
        "theta_0 = 0.125\n",
        "alpha = 0.1\n",
        "pi_theta = 0.95\n",
        "\n",
        "# z 值\n",
        "z_pi = norm.ppf(0.05)  # z_{0.95}\n",
        "z_alpha = norm.ppf(0.9)  # z_{0.1}\n",
        "\n",
        "print(z_pi)\n",
        "print(z_alpha)\n",
        "# 计算 theta(1 - theta)\n",
        "theta_term = theta * (1 - theta)\n",
        "\n",
        "# 计算 (theta_0 - theta)^2\n",
        "theta_diff_squared = (theta_0 - theta) ** 2\n",
        "\n",
        "# 计算分数\n",
        "fraction = theta_term / theta_diff_squared\n",
        "\n",
        "# 计算平方根部分\n",
        "sqrt_ratio = math.sqrt((theta_0 * (1 - theta_0)) / theta_term)\n",
        "\n",
        "# 计算 z 值的差\n",
        "z_diff = z_pi - z_alpha * sqrt_ratio\n",
        "\n",
        "# 平方差值\n",
        "z_diff_squared = z_diff ** 2\n",
        "\n",
        "# 计算 n\n",
        "n =fraction * z_diff_squared\n",
        "\n",
        "print(\"计算得到的 n 是：\", n)"
      ],
      "metadata": {
        "colab": {
          "base_uri": "https://localhost:8080/"
        },
        "id": "txoL2frOnKtZ",
        "outputId": "5c41e99c-21a2-4fa0-b4eb-597c57ebd247"
      },
      "execution_count": 12,
      "outputs": [
        {
          "output_type": "stream",
          "name": "stdout",
          "text": [
            "-1.6448536269514729\n",
            "1.2815515655446004\n",
            "计算得到的 n 是： 82.602774301625\n"
          ]
        }
      ]
    },
    {
      "cell_type": "code",
      "source": [
        "import numpy as np\n",
        "import matplotlib.pyplot as plt\n",
        "from scipy.stats import gamma\n",
        "\n",
        "# 定义 n 的范围\n",
        "n_values = np.arange(1, 200, 1)\n",
        "\n",
        "# 定义速率参数\n",
        "theta1 = 1/1500\n",
        "theta2 = 1/1000\n",
        "\n",
        "# 计算分位数\n",
        "quantile_01 = gamma.ppf(0.01, a=n_values, scale=theta1)\n",
        "quantile_95 = gamma.ppf(0.95, a=n_values, scale=theta2)\n",
        "\n",
        "# 计算n值使得(gamma(n, theta_1))^(-1)(0.95) = (gamma(n, theta_2))^(-1)(0.01)\n",
        "for i in range(199):\n",
        "  if quantile_95[i] < quantile_01[i]:\n",
        "    n = i\n",
        "    break\n",
        "# 画出两条曲线在一张图中\n",
        "plt.plot(n_values, quantile_01, label='gamma(n, theta_1)')\n",
        "plt.plot(n_values, quantile_95, label='gamma(n, theta_2)')\n",
        "\n",
        "\n",
        "\n",
        "\n",
        "\n"
      ],
      "metadata": {
        "colab": {
          "base_uri": "https://localhost:8080/",
          "height": 447
        },
        "id": "YMpM4bQX3ll5",
        "outputId": "7ce5831a-30fa-41fd-b7a6-6178ad0ef458"
      },
      "execution_count": 18,
      "outputs": [
        {
          "output_type": "execute_result",
          "data": {
            "text/plain": [
              "[<matplotlib.lines.Line2D at 0x7b765b6100a0>]"
            ]
          },
          "metadata": {},
          "execution_count": 18
        },
        {
          "output_type": "display_data",
          "data": {
            "text/plain": [
              "<Figure size 640x480 with 1 Axes>"
            ],
            "image/png": "[encoded data removed]"
          },
          "metadata": {}
        }
      ]
    },
    {
      "cell_type": "code",
      "source": [
        "import pandas as pd\n",
        "\n",
        "data = [[110, 128, 48, 123, 19],\n",
        "        [214, 183, 115, 114, 129],\n",
        "        [208, 183, 130, 225, 114]]\n",
        "\n",
        "df = pd.DataFrame(data, index=['1', '2', '3'], columns=['1', '2', '3', '4', '5'])\n",
        "df.index.name = 'A'\n",
        "df.columns.name = 'B'"
      ],
      "metadata": {
        "id": "k0nPKEgcCyQk"
      },
      "execution_count": 4,
      "outputs": []
    },
    {
      "cell_type": "code",
      "source": [
        "import numpy as np\n",
        "import pandas as pd\n",
        "from scipy import stats\n",
        "\n",
        "# 输入数据\n",
        "data = [\n",
        "    [110, 128, 48, 123, 19],\n",
        "    [214, 183, 115, 114, 129],\n",
        "    [208, 183, 130, 225, 114]\n",
        "]\n",
        "\n",
        "# 创建数据框\n",
        "df = pd.DataFrame(data, columns=['A', 'B', 'C', 'D', 'E'])\n",
        "\n",
        "# 逐行平均值\n",
        "row_means = df.mean(axis=1)\n",
        "\n",
        "# 逐列平均值\n",
        "col_means = df.mean(axis=0)\n",
        "\n",
        "# 所有数据的平均值\n",
        "overall_mean = df.values.mean()\n",
        "\n",
        "print(\"逐行平均值:\")\n",
        "print(row_means)\n",
        "\n",
        "print(\"\\n逐列平均值:\")\n",
        "print(col_means)\n",
        "\n",
        "print(\"\\n全部数据的平均值:\")\n",
        "print(overall_mean)\n",
        "\n",
        "# 双因素方差分析\n",
        "# 假设数据框中的列为不同因素，而行代表不同的样本\n",
        "\n",
        "# 进行双因素方差分析（方差分析：A和B两个因素）\n",
        "# 用 `stats.f_oneway` 可以做一元方差分析，但双因素方差分析需要使用 `statsmodels` 或 `pingouin` 库\n",
        "\n",
        "import statsmodels.api as sm\n",
        "from statsmodels.formula.api import ols\n",
        "from statsmodels.stats.anova import anova_lm\n",
        "\n",
        "# 把数据转为长格式\n",
        "df_long = pd.melt(df, var_name='Factor', value_name='Value')\n",
        "df_long['Subject'] = np.tile(range(df.shape[0]), df.shape[1])\n",
        "\n",
        "# 创建模型\n",
        "model = ols('Value ~ C(Factor) + C(Subject) + C(Factor):C(Subject)', data=df_long).fit()\n",
        "\n",
        "# 进行方差分析\n",
        "anova_results = anova_lm(model)\n",
        "print(\"\\n双因素方差分析结果:\")\n",
        "print(anova_results)\n",
        "\n",
        "# F-test (针对整体方差的检验)\n",
        "# 计算每列的F值进行F-test（此为简化版F检验）\n",
        "f_test_results = {}\n",
        "\n",
        "for col in df.columns:\n",
        "    # 假设零假设：各列均值相等\n",
        "    group_data = df[col]\n",
        "    f_val, p_val = stats.f_oneway(group_data, group_data)  # 用相同的数据进行F检验（此为简化形式）\n",
        "    f_test_results[col] = (f_val, p_val)\n",
        "\n",
        "print(\"\\nF-test 结果:\")\n",
        "for col, result in f_test_results.items():\n",
        "    print(f\"{col}: F-value = {result[0]}, p-value = {result[1]}\")\n"
      ],
      "metadata": {
        "id": "nSC7EVaSiG88"
      },
      "execution_count": null,
      "outputs": []
    }
  ]
}